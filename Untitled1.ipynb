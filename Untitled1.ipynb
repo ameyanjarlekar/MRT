{
  "nbformat": 4,
  "nbformat_minor": 0,
  "metadata": {
    "colab": {
      "name": "Untitled1.ipynb",
      "version": "0.3.2",
      "provenance": [],
      "collapsed_sections": [],
      "include_colab_link": true
    },
    "kernelspec": {
      "name": "python3",
      "display_name": "Python 3"
    },
    "accelerator": "GPU"
  },
  "cells": [
    {
      "cell_type": "markdown",
      "metadata": {
        "id": "view-in-github",
        "colab_type": "text"
      },
      "source": [
        "<a href=\"https://colab.research.google.com/github/ameyanjarlekar/MRT/blob/master/Untitled1.ipynb\" target=\"_parent\"><img src=\"https://colab.research.google.com/assets/colab-badge.svg\" alt=\"Open In Colab\"/></a>"
      ]
    },
    {
      "metadata": {
        "id": "PYfDa3DBT_t9",
        "colab_type": "code",
        "outputId": "c6187a27-2df5-42bb-c275-381d0e4693a3",
        "colab": {
          "base_uri": "https://localhost:8080/",
          "height": 35
        }
      },
      "cell_type": "code",
      "source": [
        "! git clone https://github.com/ameyanjarlekar/MRT"
      ],
      "execution_count": 0,
      "outputs": [
        {
          "output_type": "stream",
          "text": [
            "fatal: destination path 'MRT' already exists and is not an empty directory.\n"
          ],
          "name": "stdout"
        }
      ]
    },
    {
      "metadata": {
        "id": "wny3PHlLiMQz",
        "colab_type": "code",
        "outputId": "3e867f95-9a7d-44d0-b4a9-596cc05f0058",
        "colab": {
          "base_uri": "https://localhost:8080/",
          "height": 54
        }
      },
      "cell_type": "code",
      "source": [
        ""
      ],
      "execution_count": 0,
      "outputs": [
        {
          "output_type": "stream",
          "text": [
            "rm: refusing to remove '.' or '..' directory: skipping '.'\n",
            "rm: refusing to remove '.' or '..' directory: skipping '..'\n"
          ],
          "name": "stdout"
        }
      ]
    },
    {
      "metadata": {
        "id": "ePYJ1Wn8imbJ",
        "colab_type": "code",
        "outputId": "972fbced-8a3d-44d4-a2af-6cf550535703",
        "colab": {
          "base_uri": "https://localhost:8080/",
          "height": 35
        }
      },
      "cell_type": "code",
      "source": [
        ""
      ],
      "execution_count": 0,
      "outputs": [
        {
          "output_type": "stream",
          "text": [
            "\u001b[0m\u001b[01;34m.\u001b[0m/  \u001b[01;34m..\u001b[0m/  \u001b[01;34m.config\u001b[0m/  \u001b[01;34mgdrive\u001b[0m/  \u001b[01;34mMRT\u001b[0m/  \u001b[01;34msample_data\u001b[0m/\n"
          ],
          "name": "stdout"
        }
      ]
    },
    {
      "metadata": {
        "id": "sCcHae0fVlxY",
        "colab_type": "code",
        "outputId": "6f8df738-dad5-402a-fde5-72d11395f1c4",
        "colab": {
          "base_uri": "https://localhost:8080/",
          "height": 129
        }
      },
      "cell_type": "code",
      "source": [
        "from google.colab import drive\n",
        "drive.mount('/content/gdrive')"
      ],
      "execution_count": 0,
      "outputs": [
        {
          "output_type": "stream",
          "text": [
            "Go to this URL in a browser: https://accounts.google.com/o/oauth2/auth?client_id=947318989803-6bn6qk8qdgf4n4g3pfee6491hc0brc4i.apps.googleusercontent.com&redirect_uri=urn%3Aietf%3Awg%3Aoauth%3A2.0%3Aoob&scope=email%20https%3A%2F%2Fwww.googleapis.com%2Fauth%2Fdocs.test%20https%3A%2F%2Fwww.googleapis.com%2Fauth%2Fdrive%20https%3A%2F%2Fwww.googleapis.com%2Fauth%2Fdrive.photos.readonly%20https%3A%2F%2Fwww.googleapis.com%2Fauth%2Fpeopleapi.readonly&response_type=code\n",
            "\n",
            "Enter your authorization code:\n",
            "··········\n",
            "Mounted at /content/gdrive\n"
          ],
          "name": "stdout"
        }
      ]
    },
    {
      "metadata": {
        "id": "T3eK9rqmV96Y",
        "colab_type": "code",
        "outputId": "03bb05cf-3e6e-4401-80b5-b49c5637af55",
        "colab": {
          "base_uri": "https://localhost:8080/",
          "height": 421
        }
      },
      "cell_type": "code",
      "source": [
        "import numpy as np\n",
        "new=np.load(\"gdrive/My Drive/outputfinal.npy\")\n",
        "#newa = np.load(\"MRT/outputfinalans.npy\")\n",
        "newa = np.array( [[1,0]]*27600 + [[0,1]]*88784)\n",
        "#sprint(len(a))\n",
        "\n",
        "\n",
        "#outfile.seek(0)\n",
        "#new = np.load(outfile)\n",
        "#print(new.shape)\n",
        "#outfileans.seek(0)\n",
        "#newa = np.load(outfileans)\n",
        "#print(newa.shape)\n",
        "import keras\n",
        "from keras.models import Sequential\n",
        "from keras.layers import Dense, Conv2D, Flatten, Dropout\n",
        "from keras import optimizers\n",
        "model = Sequential()\n",
        "model.add(Conv2D(64,5,padding='same',input_shape=(50,50,3)))\n",
        "model.add(keras.layers.BatchNormalization())\n",
        "model.add(keras.layers.Activation('relu'))\n",
        "model.add(keras.layers.MaxPooling2D(pool_size=(2, 2), strides=2, padding='same'))\n",
        "#model.add(Dropout(0.5))\n",
        "model.add(Conv2D(64,5,padding='same'))\n",
        "model.add(keras.layers.BatchNormalization())\n",
        "model.add(keras.layers.Activation('relu'))\n",
        "model.add(keras.layers.MaxPooling2D(pool_size=(2, 2), strides=2, padding='same'))\n",
        "#model.add(Dropout(0.5))\n",
        "model.add(Conv2D(64,5,padding='same'))\n",
        "model.add(keras.layers.BatchNormalization())\n",
        "model.add(keras.layers.Activation('relu'))\n",
        "model.add(keras.layers.MaxPooling2D(pool_size=(2, 2), strides=2, padding='same'))\n",
        "#model.add(Dropout(0.5))\n",
        "model.add(Conv2D(64,5,padding='same'))\n",
        "model.add(keras.layers.BatchNormalization())\n",
        "model.add(keras.layers.Activation('relu'))\n",
        "model.add(keras.layers.MaxPooling2D(pool_size=(2, 2), strides=2, padding='same'))\n",
        "#model.add(Dropout(0.5))\n",
        "model.add(Flatten())\n",
        "model.add(Dense(2))\n",
        "model.add(keras.layers.Activation('softmax'))\n",
        "sgd = optimizers.SGD(lr = 0.05, decay = 0.5)\n",
        "model.compile(optimizer=sgd, loss='binary_crossentropy', metrics=['accuracy'])\n",
        "model.fit(new,newa,batch_size=1024,epochs=10,validation_split=0.2)"
      ],
      "execution_count": 0,
      "outputs": [
        {
          "output_type": "stream",
          "text": [
            "Train on 93107 samples, validate on 23277 samples\n",
            "Epoch 1/10\n",
            "93107/93107 [==============================] - 45s 482us/step - loss: 0.3104 - acc: 0.9019 - val_loss: 0.1025 - val_acc: 0.9766\n",
            "Epoch 2/10\n",
            "93107/93107 [==============================] - 40s 433us/step - loss: 0.2073 - acc: 0.9271 - val_loss: 0.0953 - val_acc: 0.9804\n",
            "Epoch 3/10\n",
            "93107/93107 [==============================] - 40s 434us/step - loss: 0.1982 - acc: 0.9310 - val_loss: 0.0933 - val_acc: 0.9811\n",
            "Epoch 4/10\n",
            "93107/93107 [==============================] - 40s 433us/step - loss: 0.1928 - acc: 0.9331 - val_loss: 0.0931 - val_acc: 0.9806\n",
            "Epoch 5/10\n",
            "93107/93107 [==============================] - 40s 433us/step - loss: 0.1891 - acc: 0.9349 - val_loss: 0.0925 - val_acc: 0.9809\n",
            "Epoch 6/10\n",
            "93107/93107 [==============================] - 40s 434us/step - loss: 0.1862 - acc: 0.9361 - val_loss: 0.0919 - val_acc: 0.9808\n",
            "Epoch 7/10\n",
            "93107/93107 [==============================] - 40s 433us/step - loss: 0.1840 - acc: 0.9371 - val_loss: 0.0907 - val_acc: 0.9812\n",
            "Epoch 8/10\n",
            "93107/93107 [==============================] - 40s 434us/step - loss: 0.1822 - acc: 0.9377 - val_loss: 0.0910 - val_acc: 0.9810\n",
            "Epoch 9/10\n",
            "93107/93107 [==============================] - 40s 434us/step - loss: 0.1806 - acc: 0.9385 - val_loss: 0.0902 - val_acc: 0.9815\n",
            "Epoch 10/10\n",
            "93107/93107 [==============================] - 40s 433us/step - loss: 0.1791 - acc: 0.9389 - val_loss: 0.0895 - val_acc: 0.9817\n"
          ],
          "name": "stdout"
        },
        {
          "output_type": "execute_result",
          "data": {
            "text/plain": [
              "<keras.callbacks.History at 0x7f7510156518>"
            ]
          },
          "metadata": {
            "tags": []
          },
          "execution_count": 24
        }
      ]
    }
  ]
}