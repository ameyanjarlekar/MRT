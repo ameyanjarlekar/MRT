{
  "nbformat": 4,
  "nbformat_minor": 0,
  "metadata": {
    "colab": {
      "name": "basicbook.ipynb",
      "version": "0.3.2",
      "provenance": [],
      "collapsed_sections": [],
      "include_colab_link": true
    },
    "kernelspec": {
      "name": "python3",
      "display_name": "Python 3"
    },
    "accelerator": "GPU"
  },
  "cells": [
    {
      "cell_type": "markdown",
      "metadata": {
        "id": "view-in-github",
        "colab_type": "text"
      },
      "source": [
        "<a href=\"https://colab.research.google.com/github/ameyanjarlekar/MRT/blob/master/basicbook.ipynb\" target=\"_parent\"><img src=\"https://colab.research.google.com/assets/colab-badge.svg\" alt=\"Open In Colab\"/></a>"
      ]
    },
    {
      "metadata": {
        "id": "PYfDa3DBT_t9",
        "colab_type": "code",
        "outputId": "9a2e3aa9-68a1-4df6-e717-530467357750",
        "colab": {
          "base_uri": "https://localhost:8080/",
          "height": 127
        }
      },
      "cell_type": "code",
      "source": [
        "! git clone https://github.com/ameyanjarlekar/MRT"
      ],
      "execution_count": 2,
      "outputs": [
        {
          "output_type": "stream",
          "text": [
            "Cloning into 'MRT'...\n",
            "remote: Enumerating objects: 44, done.\u001b[K\n",
            "remote: Counting objects: 100% (44/44), done.\u001b[K\n",
            "remote: Compressing objects: 100% (37/37), done.\u001b[K\n",
            "remote: Total 44 (delta 16), reused 13 (delta 3), pack-reused 0\u001b[K\n",
            "Unpacking objects: 100% (44/44), done.\n"
          ],
          "name": "stdout"
        }
      ]
    },
    {
      "metadata": {
        "id": "ePYJ1Wn8imbJ",
        "colab_type": "code",
        "colab": {}
      },
      "cell_type": "code",
      "source": [
        ""
      ],
      "execution_count": 0,
      "outputs": []
    },
    {
      "metadata": {
        "id": "sCcHae0fVlxY",
        "colab_type": "code",
        "outputId": "b895a2b6-4f76-48de-c976-c0ff6140686f",
        "colab": {
          "base_uri": "https://localhost:8080/",
          "height": 129
        }
      },
      "cell_type": "code",
      "source": [
        "from google.colab import drive\n",
        "drive.mount('/content/gdrive')"
      ],
      "execution_count": 1,
      "outputs": [
        {
          "output_type": "stream",
          "text": [
            "Go to this URL in a browser: https://accounts.google.com/o/oauth2/auth?client_id=947318989803-6bn6qk8qdgf4n4g3pfee6491hc0brc4i.apps.googleusercontent.com&redirect_uri=urn%3Aietf%3Awg%3Aoauth%3A2.0%3Aoob&scope=email%20https%3A%2F%2Fwww.googleapis.com%2Fauth%2Fdocs.test%20https%3A%2F%2Fwww.googleapis.com%2Fauth%2Fdrive%20https%3A%2F%2Fwww.googleapis.com%2Fauth%2Fdrive.photos.readonly%20https%3A%2F%2Fwww.googleapis.com%2Fauth%2Fpeopleapi.readonly&response_type=code\n",
            "\n",
            "Enter your authorization code:\n",
            "··········\n",
            "Mounted at /content/gdrive\n"
          ],
          "name": "stdout"
        }
      ]
    },
    {
      "metadata": {
        "id": "T3eK9rqmV96Y",
        "colab_type": "code",
        "outputId": "3eedcf94-360a-4ed2-86f8-3f6cf0484393",
        "colab": {
          "base_uri": "https://localhost:8080/",
          "height": 421
        }
      },
      "cell_type": "code",
      "source": [
        "import numpy as np\n",
        "new=np.load(\"gdrive/My Drive/outputfinalgrey.npy\")\n",
        "newa = np.load(\"MRT/outputfinalgreyans.npy\")\n",
        "rng_state = np.random.get_state()\n",
        "np.random.shuffle(new)\n",
        "np.random.set_state(rng_state)\n",
        "np.random.shuffle(newa)\n",
        "#newa = np.array( [[1,0]]*27600 + [[0,1]]*88784)\n",
        "#sprint(len(a))\n",
        "\n",
        "\n",
        "#outfile.seek(0)\n",
        "#new = np.load(outfile)\n",
        "#print(new.shape)\n",
        "#outfileans.seek(0)\n",
        "#newa = np.load(outfileans)\n",
        "#print(newa.shape)\n",
        "import keras\n",
        "from keras.models import Sequential\n",
        "from keras.layers import Dense, Conv2D, Flatten, Dropout,Reshape\n",
        "from keras import optimizers\n",
        "model = Sequential()\n",
        "model.add(Reshape((50,50,1), input_shape=(50,50)))\n",
        "model.add(Conv2D(64,5,padding='same',input_shape=(50,50,1)))\n",
        "model.add(keras.layers.BatchNormalization())\n",
        "model.add(keras.layers.Activation('relu'))\n",
        "model.add(keras.layers.MaxPooling2D(pool_size=(2, 2), strides=2, padding='same'))\n",
        "#model.add(Dropout(0.5))\n",
        "model.add(Conv2D(64,5,padding='same'))\n",
        "model.add(keras.layers.BatchNormalization())\n",
        "model.add(keras.layers.Activation('relu'))\n",
        "model.add(keras.layers.MaxPooling2D(pool_size=(2, 2), strides=2, padding='same'))\n",
        "#model.add(Dropout(0.5))\n",
        "model.add(Conv2D(64,5,padding='same'))\n",
        "model.add(keras.layers.BatchNormalization())\n",
        "model.add(keras.layers.Activation('relu'))\n",
        "model.add(keras.layers.MaxPooling2D(pool_size=(2, 2), strides=2, padding='same'))\n",
        "#model.add(Dropout(0.5))\n",
        "model.add(Conv2D(64,5,padding='same'))\n",
        "model.add(keras.layers.BatchNormalization())\n",
        "model.add(keras.layers.Activation('relu'))\n",
        "model.add(keras.layers.MaxPooling2D(pool_size=(2, 2), strides=2, padding='same'))\n",
        "#model.add(Dropout(0.5))\n",
        "model.add(Flatten())\n",
        "model.add(Dense(2))\n",
        "model.add(keras.layers.Activation('softmax'))\n",
        "sgd = optimizers.SGD(lr = 0.05, decay = 0.5)\n",
        "model.compile(optimizer=sgd, loss='binary_crossentropy', metrics=['accuracy'])\n",
        "model.fit(new,newa,batch_size=1024,epochs=10,validation_split=0.2)"
      ],
      "execution_count": 14,
      "outputs": [
        {
          "output_type": "stream",
          "text": [
            "Train on 93107 samples, validate on 23277 samples\n",
            "Epoch 1/10\n",
            "93107/93107 [==============================] - 40s 425us/step - loss: 0.2850 - acc: 0.9060 - val_loss: 0.2130 - val_acc: 0.9201\n",
            "Epoch 2/10\n",
            "93107/93107 [==============================] - 36s 387us/step - loss: 0.2055 - acc: 0.9228 - val_loss: 0.2042 - val_acc: 0.9233\n",
            "Epoch 3/10\n",
            "93107/93107 [==============================] - 36s 386us/step - loss: 0.1995 - acc: 0.9249 - val_loss: 0.1989 - val_acc: 0.9246\n",
            "Epoch 4/10\n",
            "93107/93107 [==============================] - 36s 386us/step - loss: 0.1960 - acc: 0.9267 - val_loss: 0.1954 - val_acc: 0.9263\n",
            "Epoch 5/10\n",
            "93107/93107 [==============================] - 36s 386us/step - loss: 0.1936 - acc: 0.9276 - val_loss: 0.1928 - val_acc: 0.9279\n",
            "Epoch 6/10\n",
            "93107/93107 [==============================] - 36s 385us/step - loss: 0.1918 - acc: 0.9288 - val_loss: 0.1910 - val_acc: 0.9285\n",
            "Epoch 7/10\n",
            "93107/93107 [==============================] - 36s 386us/step - loss: 0.1904 - acc: 0.9295 - val_loss: 0.1895 - val_acc: 0.9292\n",
            "Epoch 8/10\n",
            "93107/93107 [==============================] - 36s 388us/step - loss: 0.1892 - acc: 0.9297 - val_loss: 0.1883 - val_acc: 0.9299\n",
            "Epoch 9/10\n",
            "93107/93107 [==============================] - 36s 389us/step - loss: 0.1882 - acc: 0.9306 - val_loss: 0.1873 - val_acc: 0.9304\n",
            "Epoch 10/10\n",
            "93107/93107 [==============================] - 36s 386us/step - loss: 0.1872 - acc: 0.9308 - val_loss: 0.1864 - val_acc: 0.9309\n"
          ],
          "name": "stdout"
        },
        {
          "output_type": "execute_result",
          "data": {
            "text/plain": [
              "<keras.callbacks.History at 0x7f8a51ee4be0>"
            ]
          },
          "metadata": {
            "tags": []
          },
          "execution_count": 14
        }
      ]
    },
    {
      "metadata": {
        "id": "zgRL9rMp49Fv",
        "colab_type": "code",
        "colab": {
          "base_uri": "https://localhost:8080/",
          "height": 146
        },
        "outputId": "29089df3-a759-411b-9ead-b19961ae3289"
      },
      "cell_type": "code",
      "source": [
        "import numpy as np\n",
        "new=np.load(\"gdrive/My Drive/outputfinalgrey.npy\")\n",
        "print(new[1])"
      ],
      "execution_count": 6,
      "outputs": [
        {
          "output_type": "stream",
          "text": [
            "[[121 115 105 ...  96  96  95]\n",
            " [117 116 102 ...  96  97  98]\n",
            " [114 107  96 ... 102 101  98]\n",
            " ...\n",
            " [ 90  90  91 ...  93  96  96]\n",
            " [ 91  93  93 ...  95  96  95]\n",
            " [ 93  96  94 ...  97  96  94]]\n"
          ],
          "name": "stdout"
        }
      ]
    },
    {
      "metadata": {
        "id": "5zGgfm8m5KJL",
        "colab_type": "code",
        "colab": {
          "base_uri": "https://localhost:8080/",
          "height": 917
        },
        "outputId": "7f799bea-0c64-4f73-e379-d5903e786ca8"
      },
      "cell_type": "code",
      "source": [
        "import numpy as np\n",
        "new=np.load(\"gdrive/My Drive/outputfinal.npy\")\n",
        "print(new[1])"
      ],
      "execution_count": 7,
      "outputs": [
        {
          "output_type": "stream",
          "text": [
            "[[[ 39 106 184]\n",
            "  [ 33  97 182]\n",
            "  [ 27  90 166]\n",
            "  ...\n",
            "  [ 29  78 160]\n",
            "  [ 30  78 157]\n",
            "  [ 29  79 154]]\n",
            "\n",
            " [[ 38  99 183]\n",
            "  [ 32 101 179]\n",
            "  [ 25  86 163]\n",
            "  ...\n",
            "  [ 30  75 164]\n",
            "  [ 30  80 159]\n",
            "  [ 30  83 155]]\n",
            "\n",
            " [[ 32  96 182]\n",
            "  [ 29  89 175]\n",
            "  [ 27  77 161]\n",
            "  ...\n",
            "  [ 30  84 167]\n",
            "  [ 31  85 161]\n",
            "  [ 30  83 155]]\n",
            "\n",
            " ...\n",
            "\n",
            " [[ 26  76 145]\n",
            "  [ 26  75 144]\n",
            "  [ 25  77 145]\n",
            "  ...\n",
            "  [ 29  75 156]\n",
            "  [ 30  79 155]\n",
            "  [ 28  80 154]]\n",
            "\n",
            " [[ 27  75 148]\n",
            "  [ 25  78 150]\n",
            "  [ 24  79 150]\n",
            "  ...\n",
            "  [ 28  79 152]\n",
            "  [ 30  82 152]\n",
            "  [ 27  81 151]]\n",
            "\n",
            " [[ 28  78 148]\n",
            "  [ 25  83 149]\n",
            "  [ 22  80 149]\n",
            "  ...\n",
            "  [ 28  80 158]\n",
            "  [ 29  80 154]\n",
            "  [ 27  80 150]]]\n"
          ],
          "name": "stdout"
        }
      ]
    }
  ]
}